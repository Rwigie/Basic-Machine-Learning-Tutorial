{
 "cells": [
  {
   "attachments": {},
   "cell_type": "markdown",
   "metadata": {},
   "source": [
    "# Additional Part\n",
    "using Numpy and vertor"
   ]
  },
  {
   "attachments": {},
   "cell_type": "markdown",
   "metadata": {},
   "source": [
    "<a name=\"toc_40291_2\"></a>\n",
    "# Problem Statement\n",
    "\n",
    "Let's use the same two data points as before - a house with 1000 square feet sold for \\\\$300,000 and a house with 2000 square feet sold for \\\\$500,000.\n",
    "\n",
    "| Size (1000 sqft)     | Price (1000s of dollars) |\n",
    "| ----------------| ------------------------ |\n",
    "| 1               | 300                      |\n",
    "| 2               | 500                      |"
   ]
  },
  {
   "attachments": {},
   "cell_type": "markdown",
   "metadata": {},
   "source": [
    "1. Activation Fucntion \n",
    "\n",
    "So far in this course, you have developed a linear model that predicts $f_{w,b}(x^{(i)})$:\n",
    "$$f_{w,b}(x^{(i)}) = wx^{(i)} + b \\tag{1}$$"
   ]
  },
  {
   "cell_type": "code",
   "execution_count": 18,
   "metadata": {},
   "outputs": [],
   "source": [
    "import numpy as np\n",
    "x_data = np.array([1, 2])     # Size\n",
    "y_data = np.array([300, 500]) # Price\n",
    "data = np.array([[1,300],[2,500]])\n",
    "a = data[:,0]\n",
    "b = data[:,1]"
   ]
  },
  {
   "cell_type": "code",
   "execution_count": 19,
   "metadata": {},
   "outputs": [
    {
     "name": "stdout",
     "output_type": "stream",
     "text": [
      "x_data: [1 2]\n",
      "x_data.shape : (2,)\n"
     ]
    }
   ],
   "source": [
    "print(f\"x_data: {x_data}\")\n",
    "print(f\"x_data.shape : {x_data.shape}\")\n"
   ]
  },
  {
   "cell_type": "code",
   "execution_count": 20,
   "metadata": {},
   "outputs": [
    {
     "name": "stdout",
     "output_type": "stream",
     "text": [
      "The result of prediction of y: [100 200]\n"
     ]
    }
   ],
   "source": [
    "def Linear_model(x, w):\n",
    "    '''\n",
    "    Input:\n",
    "        w : Integar, representing weight\n",
    "        x : NumpyArray, repersenting Size of the house \n",
    "    Output:\n",
    "        y_hat : NumpyArray, prediction of Price, based on y = w * x\n",
    "    '''  \n",
    "    #TODO:\n",
    "    # NumpyArray: Vector, w(int) * x(vector)\n",
    "    y_hat = w * x\n",
    "\n",
    "        \n",
    "    return y_hat\n",
    "\n",
    "# Set initial w value\n",
    "w_init = 100\n",
    "y_hat = Linear_model(x_data, w_init)\n",
    "print(f\"The result of prediction of y: {y_hat}\")\n"
   ]
  },
  {
   "attachments": {},
   "cell_type": "markdown",
   "metadata": {},
   "source": [
    "# 2.Cost Function\n",
    "In linear regression, you utilize input training data to fit the parameters $w$,$b$ by minimizing a measure of the error between our predictions $f_{w,b}(x^{(i)})$ and the actual data $y^{(i)}$. The measure is called the $cost$, $J(w,b)$. In training you measure the cost over all of our training samples $x^{(i)},y^{(i)}$\n",
    "$$J(w,b) = \\frac{1}{2m} \\sum\\limits_{i = 0}^{m-1} (f_{w,b}(x^{(i)}) - y^{(i)})^2\\tag{2}$$ "
   ]
  },
  {
   "cell_type": "code",
   "execution_count": 21,
   "metadata": {},
   "outputs": [
    {
     "data": {
      "text/plain": [
       "130000"
      ]
     },
     "execution_count": 21,
     "metadata": {},
     "output_type": "execute_result"
    }
   ],
   "source": [
    "#Cost Function\n",
    "def Cost_function(x, y, w):\n",
    "    '''\n",
    "    Input:\n",
    "        w : Integar, representing weight\n",
    "        x : NumpyArray, representing Size of the house \n",
    "        y : NumpyArray, representing Price of the house\n",
    "    Output:\n",
    "        Cost : Int\n",
    "    '''  \n",
    "\n",
    "    cost = 0\n",
    "    f_wb = Linear_model(x , w)\n",
    "    \n",
    "    #TODO:\n",
    "    val = (f_wb - y) ** 2\n",
    "    cost = np.sum(val)\n",
    "    \n",
    "    \n",
    "    return cost \n",
    "cost = Cost_function(x_data, y_data, w_init)\n",
    "cost"
   ]
  },
  {
   "attachments": {},
   "cell_type": "markdown",
   "metadata": {},
   "source": [
    "# 3. Gradient descent\n",
    "The gradient is defined as:\n",
    "$$\n",
    "\\begin{align}\n",
    "\\frac{\\partial J(w,b)}{\\partial w}  &= \\frac{1}{m} \\sum\\limits_{i = 0}^{m-1} (f_{w,b}(x^{(i)}) - y^{(i)})x^{(i)} \\tag{4}\\\\\n",
    "  \\frac{\\partial J(w,b)}{\\partial b}  &= \\frac{1}{m} \\sum\\limits_{i = 0}^{m-1} (f_{w,b}(x^{(i)}) - y^{(i)}) \\tag{5}\\\\\n",
    "\\end{align}\n",
    "$$"
   ]
  },
  {
   "cell_type": "code",
   "execution_count": 22,
   "metadata": {},
   "outputs": [],
   "source": [
    "#Gradient Descent\n",
    "def gradient_function(x, y, w):\n",
    "    '''\n",
    "    Input:\n",
    "        w : Integar, representing weight\n",
    "        x : NumpyArray, representing Size of the house \n",
    "        y : NumpyArray, representing Price of the house\n",
    "    Output:\n",
    "        dj_dw : Float\n",
    "    '''  \n",
    "    m = len(x)\n",
    "    dj_dw = 0.0\n",
    "    f_wb = Linear_model(x , w)\n",
    "    #TODO:\n",
    "    val = (f_wb - y)\n",
    "    dj_dw = np.dot(val,x)\n",
    "    dj_dw /= m\n",
    "    \n",
    "    \n",
    "    return dj_dw        "
   ]
  },
  {
   "attachments": {},
   "cell_type": "markdown",
   "metadata": {},
   "source": [
    "In lecture, *gradient descent* was described as:\n",
    "\n",
    "$$\\begin{align*} \\text{repeat}&\\text{ until convergence:} \\; \\lbrace \\newline\n",
    "\\;  w &= w -  \\alpha \\frac{\\partial J(w,b)}{\\partial w} \\tag{3}  \\; \\newline \n",
    " b &= b -  \\alpha \\frac{\\partial J(w,b)}{\\partial b}  \\newline \\rbrace\n",
    "\\end{align*}$$\n",
    "where, parameters $w$, $b$ are updated simultaneously.  \n",
    "\n",
    "\n",
    "Here *simultaniously* means that you calculate the partial derivatives for all the parameters before updating any of the parameters."
   ]
  },
  {
   "cell_type": "code",
   "execution_count": 23,
   "metadata": {},
   "outputs": [],
   "source": [
    "def Gradient_Descent(x, y , w_init, lr, iteration):\n",
    "\n",
    "    #For drawing figure, do not care\n",
    "    cost_history = []\n",
    "    w_history = []\n",
    "    #Start Here\n",
    "    w = w_init\n",
    "\n",
    "    \n",
    "    for num in range(iteration):\n",
    "\n",
    "\n",
    "        dj_dw = gradient_function(x ,y, w)\n",
    "        w = w - dj_dw * lr\n",
    "\n",
    "        #For drawing figure, do not care\n",
    "        cost = Cost_function(x,y,w)\n",
    "        cost_history.append(cost)\n",
    "        w_history.append(w)\n",
    "        \n",
    "        if (num % 10 == 0):\n",
    "            print(f\"Iter:{num:4}, Cost : {cost:0.4e}, \"\n",
    "                  f\"dj_dw : {dj_dw:0.3e}, w : {w:0.3e}\")\n",
    "                  \n",
    "\n",
    "    return w,cost,w_history,cost_history"
   ]
  },
  {
   "attachments": {},
   "cell_type": "markdown",
   "metadata": {},
   "source": [
    "# 4. Modulation Part\n",
    "lr : learning rate \\\n",
    "iteration : the total amount of trainig \\\n",
    "You can justify lr and iteration to see the ultimate effect"
   ]
  },
  {
   "cell_type": "code",
   "execution_count": 24,
   "metadata": {},
   "outputs": [
    {
     "name": "stdout",
     "output_type": "stream",
     "text": [
      "Iter:   0, Cost : 1.2368e+05, dj_dw : -4.000e+02, w : 1.040e+02\n",
      "Iter:  10, Cost : 7.5335e+04, dj_dw : -3.105e+02, w : 1.389e+02\n",
      "Iter:  20, Cost : 4.6198e+04, dj_dw : -2.411e+02, w : 1.660e+02\n",
      "Iter:  30, Cost : 2.8638e+04, dj_dw : -1.872e+02, w : 1.870e+02\n",
      "Iter:  40, Cost : 1.8054e+04, dj_dw : -1.453e+02, w : 2.033e+02\n",
      "Iter:  50, Cost : 1.1676e+04, dj_dw : -1.128e+02, w : 2.160e+02\n",
      "Iter:  60, Cost : 7.8314e+03, dj_dw : -8.757e+01, w : 2.258e+02\n",
      "Iter:  70, Cost : 5.5145e+03, dj_dw : -6.798e+01, w : 2.335e+02\n",
      "Iter:  80, Cost : 4.1182e+03, dj_dw : -5.278e+01, w : 2.394e+02\n",
      "Iter:  90, Cost : 3.2766e+03, dj_dw : -4.097e+01, w : 2.440e+02\n"
     ]
    }
   ],
   "source": [
    "\n",
    "lr = 0.01\n",
    "iteration  = 100\n",
    "w_new,cost_new,w_history,cost_history = Gradient_Descent(x_data,y_data,w_init,lr,iteration)\n"
   ]
  }
 ],
 "metadata": {
  "kernelspec": {
   "display_name": "Python 3",
   "language": "python",
   "name": "python3"
  },
  "language_info": {
   "codemirror_mode": {
    "name": "ipython",
    "version": 3
   },
   "file_extension": ".py",
   "mimetype": "text/x-python",
   "name": "python",
   "nbconvert_exporter": "python",
   "pygments_lexer": "ipython3",
   "version": "3.9.2"
  },
  "orig_nbformat": 4
 },
 "nbformat": 4,
 "nbformat_minor": 2
}
