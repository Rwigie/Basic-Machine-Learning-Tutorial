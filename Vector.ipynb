{
 "cells": [
  {
   "attachments": {},
   "cell_type": "markdown",
   "metadata": {},
   "source": [
    "# Additional Part\n",
    "using Numpy and vertor"
   ]
  },
  {
   "attachments": {},
   "cell_type": "markdown",
   "metadata": {},
   "source": [
    "<a name=\"toc_40291_2\"></a>\n",
    "# Problem Statement\n",
    "\n",
    "Let's use the same two data points as before - a house with 1000 square feet sold for \\\\$300,000 and a house with 2000 square feet sold for \\\\$500,000.\n",
    "\n",
    "| Size (1000 sqft)     | Price (1000s of dollars) |\n",
    "| ----------------| ------------------------ |\n",
    "| 1               | 300                      |\n",
    "| 2               | 500                      |"
   ]
  },
  {
   "attachments": {},
   "cell_type": "markdown",
   "metadata": {},
   "source": [
    "1. Activation Fucntion \n",
    "\n",
    "So far in this course, you have developed a linear model that predicts $f_{w,b}(x^{(i)})$:\n",
    "$$f_{w,b}(x^{(i)}) = wx^{(i)} + b \\tag{1}$$"
   ]
  },
  {
   "cell_type": "code",
   "execution_count": 33,
   "metadata": {},
   "outputs": [],
   "source": [
    "import numpy as np\n",
    "import matplotlib.pyplot as plt\n",
    "x_data = np.array([1, 2])     # Size\n",
    "y_data = np.array([300, 500]) # Price\n",
    "data = np.array([[1,300],[2,500]])\n",
    "a = data[:,0]\n",
    "b = data[:,1]"
   ]
  },
  {
   "cell_type": "code",
   "execution_count": 34,
   "metadata": {},
   "outputs": [
    {
     "name": "stdout",
     "output_type": "stream",
     "text": [
      "x_data: [1 2]\n",
      "x_data.shape : (2,)\n"
     ]
    }
   ],
   "source": [
    "print(f\"x_data: {x_data}\")\n",
    "print(f\"x_data.shape : {x_data.shape}\")\n"
   ]
  },
  {
   "cell_type": "code",
   "execution_count": 35,
   "metadata": {},
   "outputs": [
    {
     "name": "stdout",
     "output_type": "stream",
     "text": [
      "The result of prediction of y: [100 200]\n"
     ]
    }
   ],
   "source": [
    "def Linear_model(x, w):\n",
    "    '''\n",
    "    Input:\n",
    "        w : Integar, representing weight\n",
    "        x : NumpyArray, repersenting Size of the house \n",
    "    Output:\n",
    "        y_hat : NumpyArray, prediction of Price, based on y = w * x\n",
    "    '''  \n",
    "    #TODO:\n",
    "    # NumpyArray: Vector, w(int) * x(vector)\n",
    "    y_hat = w * x\n",
    "\n",
    "        \n",
    "    return y_hat\n",
    "\n",
    "# Set initial w value\n",
    "w_init = 100\n",
    "y_hat = Linear_model(x_data, w_init)\n",
    "print(f\"The result of prediction of y: {y_hat}\")\n"
   ]
  },
  {
   "attachments": {},
   "cell_type": "markdown",
   "metadata": {},
   "source": [
    "# 2.Cost Function\n",
    "In linear regression, you utilize input training data to fit the parameters $w$,$b$ by minimizing a measure of the error between our predictions $f_{w,b}(x^{(i)})$ and the actual data $y^{(i)}$. The measure is called the $cost$, $J(w,b)$. In training you measure the cost over all of our training samples $x^{(i)},y^{(i)}$\n",
    "$$J(w,b) = \\frac{1}{2m} \\sum\\limits_{i = 0}^{m-1} (f_{w,b}(x^{(i)}) - y^{(i)})^2\\tag{2}$$ "
   ]
  },
  {
   "cell_type": "code",
   "execution_count": 36,
   "metadata": {},
   "outputs": [
    {
     "data": {
      "text/plain": [
       "130000"
      ]
     },
     "execution_count": 36,
     "metadata": {},
     "output_type": "execute_result"
    }
   ],
   "source": [
    "#Cost Function\n",
    "def Cost_function(x, y, w):\n",
    "    '''\n",
    "    Input:\n",
    "        w : Integar, representing weight\n",
    "        x : NumpyArray, representing Size of the house \n",
    "        y : NumpyArray, representing Price of the house\n",
    "    Output:\n",
    "        Cost : Int\n",
    "    '''  \n",
    "\n",
    "    cost = 0\n",
    "    f_wb = Linear_model(x , w)\n",
    "    \n",
    "    #TODO:\n",
    "    val = (f_wb - y) ** 2\n",
    "    cost = np.sum(val)\n",
    "    \n",
    "    \n",
    "    return cost \n",
    "cost = Cost_function(x_data, y_data, w_init)\n",
    "cost"
   ]
  },
  {
   "attachments": {},
   "cell_type": "markdown",
   "metadata": {},
   "source": [
    "# 3. Gradient descent\n",
    "The gradient is defined as:\n",
    "$$\n",
    "\\begin{align}\n",
    "\\frac{\\partial J(w,b)}{\\partial w}  &= \\frac{1}{m} \\sum\\limits_{i = 0}^{m-1} (f_{w,b}(x^{(i)}) - y^{(i)})x^{(i)} \\tag{4}\\\\\n",
    "  \\frac{\\partial J(w,b)}{\\partial b}  &= \\frac{1}{m} \\sum\\limits_{i = 0}^{m-1} (f_{w,b}(x^{(i)}) - y^{(i)}) \\tag{5}\\\\\n",
    "\\end{align}\n",
    "$$"
   ]
  },
  {
   "cell_type": "code",
   "execution_count": 37,
   "metadata": {},
   "outputs": [],
   "source": [
    "#Gradient Descent\n",
    "def gradient_function(x, y, w):\n",
    "    '''\n",
    "    Input:\n",
    "        w : Integar, representing weight\n",
    "        x : NumpyArray, representing Size of the house \n",
    "        y : NumpyArray, representing Price of the house\n",
    "    Output:\n",
    "        dj_dw : Float\n",
    "    '''  \n",
    "    m = len(x)\n",
    "    dj_dw = 0.0\n",
    "    f_wb = Linear_model(x , w)\n",
    "    #TODO:\n",
    "    val = (f_wb - y)\n",
    "    dj_dw = np.dot(val,x)\n",
    "    dj_dw /= m\n",
    "    \n",
    "    \n",
    "    return dj_dw        "
   ]
  },
  {
   "attachments": {},
   "cell_type": "markdown",
   "metadata": {},
   "source": [
    "In lecture, *gradient descent* was described as:\n",
    "\n",
    "$$\\begin{align*} \\text{repeat}&\\text{ until convergence:} \\; \\lbrace \\newline\n",
    "\\;  w &= w -  \\alpha \\frac{\\partial J(w,b)}{\\partial w} \\tag{3}  \\; \\newline \n",
    " b &= b -  \\alpha \\frac{\\partial J(w,b)}{\\partial b}  \\newline \\rbrace\n",
    "\\end{align*}$$\n",
    "where, parameters $w$, $b$ are updated simultaneously.  \n",
    "\n",
    "\n",
    "Here *simultaniously* means that you calculate the partial derivatives for all the parameters before updating any of the parameters."
   ]
  },
  {
   "cell_type": "code",
   "execution_count": 38,
   "metadata": {},
   "outputs": [],
   "source": [
    "def Gradient_Descent(x, y , w_init, lr, iteration):\n",
    "\n",
    "    #For drawing figure, do not care\n",
    "    cost_history = []\n",
    "    w_history = []\n",
    "    #Start Here\n",
    "    w = w_init\n",
    "\n",
    "    \n",
    "    for num in range(iteration):\n",
    "\n",
    "\n",
    "        dj_dw = gradient_function(x ,y, w)\n",
    "        w = w - dj_dw * lr\n",
    "\n",
    "        #For drawing figure, do not care\n",
    "        cost = Cost_function(x,y,w)\n",
    "        cost_history.append(cost)\n",
    "        w_history.append(w)\n",
    "        \n",
    "        if (num % 10 == 0):\n",
    "            print(f\"Iter:{num:4}, Cost : {cost:0.4e}, \"\n",
    "                  f\"dj_dw : {dj_dw:0.3e}, w : {w:0.3e}\")\n",
    "                  \n",
    "\n",
    "    return w,cost,w_history,cost_history"
   ]
  },
  {
   "attachments": {},
   "cell_type": "markdown",
   "metadata": {},
   "source": [
    "# 4. Modulation Part\n",
    "lr : learning rate \\\n",
    "iteration : the total amount of trainig \\\n",
    "You can justify lr and iteration to see the ultimate effect"
   ]
  },
  {
   "cell_type": "code",
   "execution_count": 47,
   "metadata": {},
   "outputs": [
    {
     "name": "stdout",
     "output_type": "stream",
     "text": [
      "Iter:   0, Cost : 1.2368e+05, dj_dw : -4.000e+02, w : 1.040e+02\n",
      "Iter:  10, Cost : 7.5335e+04, dj_dw : -3.105e+02, w : 1.389e+02\n",
      "Iter:  20, Cost : 4.6198e+04, dj_dw : -2.411e+02, w : 1.660e+02\n",
      "Iter:  30, Cost : 2.8638e+04, dj_dw : -1.872e+02, w : 1.870e+02\n",
      "Iter:  40, Cost : 1.8054e+04, dj_dw : -1.453e+02, w : 2.033e+02\n",
      "Iter:  50, Cost : 1.1676e+04, dj_dw : -1.128e+02, w : 2.160e+02\n",
      "Iter:  60, Cost : 7.8314e+03, dj_dw : -8.757e+01, w : 2.258e+02\n",
      "Iter:  70, Cost : 5.5145e+03, dj_dw : -6.798e+01, w : 2.335e+02\n",
      "Iter:  80, Cost : 4.1182e+03, dj_dw : -5.278e+01, w : 2.394e+02\n",
      "Iter:  90, Cost : 3.2766e+03, dj_dw : -4.097e+01, w : 2.440e+02\n",
      "Iter: 100, Cost : 2.7694e+03, dj_dw : -3.181e+01, w : 2.476e+02\n",
      "Iter: 110, Cost : 2.4637e+03, dj_dw : -2.469e+01, w : 2.504e+02\n",
      "Iter: 120, Cost : 2.2795e+03, dj_dw : -1.917e+01, w : 2.525e+02\n",
      "Iter: 130, Cost : 2.1684e+03, dj_dw : -1.488e+01, w : 2.542e+02\n",
      "Iter: 140, Cost : 2.1015e+03, dj_dw : -1.155e+01, w : 2.555e+02\n",
      "Iter: 150, Cost : 2.0612e+03, dj_dw : -8.969e+00, w : 2.565e+02\n",
      "Iter: 160, Cost : 2.0369e+03, dj_dw : -6.963e+00, w : 2.573e+02\n",
      "Iter: 170, Cost : 2.0222e+03, dj_dw : -5.406e+00, w : 2.579e+02\n",
      "Iter: 180, Cost : 2.0134e+03, dj_dw : -4.197e+00, w : 2.584e+02\n",
      "Iter: 190, Cost : 2.0081e+03, dj_dw : -3.258e+00, w : 2.587e+02\n",
      "Iter: 200, Cost : 2.0049e+03, dj_dw : -2.529e+00, w : 2.590e+02\n",
      "Iter: 210, Cost : 2.0029e+03, dj_dw : -1.963e+00, w : 2.592e+02\n",
      "Iter: 220, Cost : 2.0018e+03, dj_dw : -1.524e+00, w : 2.594e+02\n",
      "Iter: 230, Cost : 2.0011e+03, dj_dw : -1.183e+00, w : 2.595e+02\n",
      "Iter: 240, Cost : 2.0006e+03, dj_dw : -9.187e-01, w : 2.596e+02\n",
      "Iter: 250, Cost : 2.0004e+03, dj_dw : -7.132e-01, w : 2.597e+02\n",
      "Iter: 260, Cost : 2.0002e+03, dj_dw : -5.537e-01, w : 2.598e+02\n",
      "Iter: 270, Cost : 2.0001e+03, dj_dw : -4.298e-01, w : 2.598e+02\n",
      "Iter: 280, Cost : 2.0001e+03, dj_dw : -3.337e-01, w : 2.599e+02\n",
      "Iter: 290, Cost : 2.0001e+03, dj_dw : -2.591e-01, w : 2.599e+02\n",
      "Iter: 300, Cost : 2.0000e+03, dj_dw : -2.011e-01, w : 2.599e+02\n",
      "Iter: 310, Cost : 2.0000e+03, dj_dw : -1.561e-01, w : 2.599e+02\n",
      "Iter: 320, Cost : 2.0000e+03, dj_dw : -1.212e-01, w : 2.600e+02\n",
      "Iter: 330, Cost : 2.0000e+03, dj_dw : -9.410e-02, w : 2.600e+02\n",
      "Iter: 340, Cost : 2.0000e+03, dj_dw : -7.305e-02, w : 2.600e+02\n",
      "Iter: 350, Cost : 2.0000e+03, dj_dw : -5.671e-02, w : 2.600e+02\n",
      "Iter: 360, Cost : 2.0000e+03, dj_dw : -4.403e-02, w : 2.600e+02\n",
      "Iter: 370, Cost : 2.0000e+03, dj_dw : -3.418e-02, w : 2.600e+02\n",
      "Iter: 380, Cost : 2.0000e+03, dj_dw : -2.653e-02, w : 2.600e+02\n",
      "Iter: 390, Cost : 2.0000e+03, dj_dw : -2.060e-02, w : 2.600e+02\n",
      "Iter: 400, Cost : 2.0000e+03, dj_dw : -1.599e-02, w : 2.600e+02\n",
      "Iter: 410, Cost : 2.0000e+03, dj_dw : -1.242e-02, w : 2.600e+02\n",
      "Iter: 420, Cost : 2.0000e+03, dj_dw : -9.638e-03, w : 2.600e+02\n",
      "Iter: 430, Cost : 2.0000e+03, dj_dw : -7.482e-03, w : 2.600e+02\n",
      "Iter: 440, Cost : 2.0000e+03, dj_dw : -5.809e-03, w : 2.600e+02\n",
      "Iter: 450, Cost : 2.0000e+03, dj_dw : -4.510e-03, w : 2.600e+02\n",
      "Iter: 460, Cost : 2.0000e+03, dj_dw : -3.501e-03, w : 2.600e+02\n",
      "Iter: 470, Cost : 2.0000e+03, dj_dw : -2.718e-03, w : 2.600e+02\n",
      "Iter: 480, Cost : 2.0000e+03, dj_dw : -2.110e-03, w : 2.600e+02\n",
      "Iter: 490, Cost : 2.0000e+03, dj_dw : -1.638e-03, w : 2.600e+02\n",
      "Iter: 500, Cost : 2.0000e+03, dj_dw : -1.272e-03, w : 2.600e+02\n",
      "Iter: 510, Cost : 2.0000e+03, dj_dw : -9.872e-04, w : 2.600e+02\n",
      "Iter: 520, Cost : 2.0000e+03, dj_dw : -7.664e-04, w : 2.600e+02\n",
      "Iter: 530, Cost : 2.0000e+03, dj_dw : -5.950e-04, w : 2.600e+02\n",
      "Iter: 540, Cost : 2.0000e+03, dj_dw : -4.619e-04, w : 2.600e+02\n",
      "Iter: 550, Cost : 2.0000e+03, dj_dw : -3.586e-04, w : 2.600e+02\n",
      "Iter: 560, Cost : 2.0000e+03, dj_dw : -2.784e-04, w : 2.600e+02\n",
      "Iter: 570, Cost : 2.0000e+03, dj_dw : -2.161e-04, w : 2.600e+02\n",
      "Iter: 580, Cost : 2.0000e+03, dj_dw : -1.678e-04, w : 2.600e+02\n",
      "Iter: 590, Cost : 2.0000e+03, dj_dw : -1.303e-04, w : 2.600e+02\n",
      "Iter: 600, Cost : 2.0000e+03, dj_dw : -1.011e-04, w : 2.600e+02\n",
      "Iter: 610, Cost : 2.0000e+03, dj_dw : -7.850e-05, w : 2.600e+02\n",
      "Iter: 620, Cost : 2.0000e+03, dj_dw : -6.094e-05, w : 2.600e+02\n",
      "Iter: 630, Cost : 2.0000e+03, dj_dw : -4.731e-05, w : 2.600e+02\n",
      "Iter: 640, Cost : 2.0000e+03, dj_dw : -3.673e-05, w : 2.600e+02\n",
      "Iter: 650, Cost : 2.0000e+03, dj_dw : -2.851e-05, w : 2.600e+02\n",
      "Iter: 660, Cost : 2.0000e+03, dj_dw : -2.214e-05, w : 2.600e+02\n",
      "Iter: 670, Cost : 2.0000e+03, dj_dw : -1.719e-05, w : 2.600e+02\n",
      "Iter: 680, Cost : 2.0000e+03, dj_dw : -1.334e-05, w : 2.600e+02\n",
      "Iter: 690, Cost : 2.0000e+03, dj_dw : -1.036e-05, w : 2.600e+02\n",
      "Iter: 700, Cost : 2.0000e+03, dj_dw : -8.041e-06, w : 2.600e+02\n",
      "Iter: 710, Cost : 2.0000e+03, dj_dw : -6.242e-06, w : 2.600e+02\n",
      "Iter: 720, Cost : 2.0000e+03, dj_dw : -4.846e-06, w : 2.600e+02\n",
      "Iter: 730, Cost : 2.0000e+03, dj_dw : -3.762e-06, w : 2.600e+02\n",
      "Iter: 740, Cost : 2.0000e+03, dj_dw : -2.921e-06, w : 2.600e+02\n",
      "Iter: 750, Cost : 2.0000e+03, dj_dw : -2.267e-06, w : 2.600e+02\n",
      "Iter: 760, Cost : 2.0000e+03, dj_dw : -1.760e-06, w : 2.600e+02\n",
      "Iter: 770, Cost : 2.0000e+03, dj_dw : -1.367e-06, w : 2.600e+02\n",
      "Iter: 780, Cost : 2.0000e+03, dj_dw : -1.061e-06, w : 2.600e+02\n",
      "Iter: 790, Cost : 2.0000e+03, dj_dw : -8.236e-07, w : 2.600e+02\n",
      "Iter: 800, Cost : 2.0000e+03, dj_dw : -6.394e-07, w : 2.600e+02\n",
      "Iter: 810, Cost : 2.0000e+03, dj_dw : -4.964e-07, w : 2.600e+02\n",
      "Iter: 820, Cost : 2.0000e+03, dj_dw : -3.853e-07, w : 2.600e+02\n",
      "Iter: 830, Cost : 2.0000e+03, dj_dw : -2.992e-07, w : 2.600e+02\n",
      "Iter: 840, Cost : 2.0000e+03, dj_dw : -2.322e-07, w : 2.600e+02\n",
      "Iter: 850, Cost : 2.0000e+03, dj_dw : -1.803e-07, w : 2.600e+02\n",
      "Iter: 860, Cost : 2.0000e+03, dj_dw : -1.400e-07, w : 2.600e+02\n",
      "Iter: 870, Cost : 2.0000e+03, dj_dw : -1.087e-07, w : 2.600e+02\n",
      "Iter: 880, Cost : 2.0000e+03, dj_dw : -8.436e-08, w : 2.600e+02\n",
      "Iter: 890, Cost : 2.0000e+03, dj_dw : -6.549e-08, w : 2.600e+02\n",
      "Iter: 900, Cost : 2.0000e+03, dj_dw : -5.084e-08, w : 2.600e+02\n",
      "Iter: 910, Cost : 2.0000e+03, dj_dw : -3.947e-08, w : 2.600e+02\n",
      "Iter: 920, Cost : 2.0000e+03, dj_dw : -3.064e-08, w : 2.600e+02\n",
      "Iter: 930, Cost : 2.0000e+03, dj_dw : -2.379e-08, w : 2.600e+02\n",
      "Iter: 940, Cost : 2.0000e+03, dj_dw : -1.847e-08, w : 2.600e+02\n",
      "Iter: 950, Cost : 2.0000e+03, dj_dw : -1.434e-08, w : 2.600e+02\n",
      "Iter: 960, Cost : 2.0000e+03, dj_dw : -1.113e-08, w : 2.600e+02\n",
      "Iter: 970, Cost : 2.0000e+03, dj_dw : -8.640e-09, w : 2.600e+02\n",
      "Iter: 980, Cost : 2.0000e+03, dj_dw : -6.708e-09, w : 2.600e+02\n",
      "Iter: 990, Cost : 2.0000e+03, dj_dw : -5.207e-09, w : 2.600e+02\n"
     ]
    },
    {
     "data": {
      "text/plain": [
       "[<matplotlib.lines.Line2D at 0x24c7be4afd0>]"
      ]
     },
     "execution_count": 47,
     "metadata": {},
     "output_type": "execute_result"
    },
    {
     "data": {
      "image/png": "[encoded data removed]",
      "text/plain": [
       "<Figure size 432x288 with 1 Axes>"
      ]
     },
     "metadata": {
      "needs_background": "light"
     },
     "output_type": "display_data"
    }
   ],
   "source": [
    "\n",
    "lr = 0.01\n",
    "iteration  = 1000\n",
    "w_new,cost_new,w_history,cost_history = Gradient_Descent(x_data,y_data,w_init,lr,iteration)\n",
    "plt.plot(cost_history)\n"
   ]
  },
  {
   "cell_type": "code",
   "execution_count": 41,
   "metadata": {},
   "outputs": [
    {
     "data": {
      "text/plain": [
       "4"
      ]
     },
     "execution_count": 41,
     "metadata": {},
     "output_type": "execute_result"
    }
   ],
   "source": []
  }
 ],
 "metadata": {
  "kernelspec": {
   "display_name": "Python 3",
   "language": "python",
   "name": "python3"
  },
  "language_info": {
   "codemirror_mode": {
    "name": "ipython",
    "version": 3
   },
   "file_extension": ".py",
   "mimetype": "text/x-python",
   "name": "python",
   "nbconvert_exporter": "python",
   "pygments_lexer": "ipython3",
   "version": "3.9.2"
  },
  "orig_nbformat": 4
 },
 "nbformat": 4,
 "nbformat_minor": 2
}
