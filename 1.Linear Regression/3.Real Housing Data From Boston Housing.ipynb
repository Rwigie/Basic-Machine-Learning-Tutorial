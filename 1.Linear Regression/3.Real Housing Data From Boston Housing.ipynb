{
 "cells": [
  {
   "attachments": {},
   "cell_type": "markdown",
   "metadata": {},
   "source": [
    "# Real Housing Data Train\n",
    "from : https://archive.ics.uci.edu/ml/machine-learning-databases/housing/"
   ]
  },
  {
   "attachments": {},
   "cell_type": "markdown",
   "metadata": {},
   "source": [
    "The data is in the file data, with housing.data"
   ]
  },
  {
   "cell_type": "code",
   "execution_count": 1,
   "metadata": {},
   "outputs": [],
   "source": [
    "import numpy as np\n",
    "import matplotlib.pyplot as plt\n",
    "import pandas as pd"
   ]
  },
  {
   "cell_type": "code",
   "execution_count": 2,
   "metadata": {},
   "outputs": [
    {
     "data": {
      "text/plain": [
       "(506, 13)"
      ]
     },
     "execution_count": 2,
     "metadata": {},
     "output_type": "execute_result"
    }
   ],
   "source": [
    "path = 'data/housing.data'\n",
    "df = pd.read_csv(path, header=None, sep='\\s+')\n",
    "data = np.array(df)\n",
    "\n",
    "# n:rows\n",
    "# m:coloums\n",
    "y_data = data[:,-1]\n",
    "x_data = data[:,0:13]\n",
    "n,m = x_data.shape\n",
    "y_data.shape\n",
    "n,m"
   ]
  },
  {
   "cell_type": "code",
   "execution_count": 3,
   "metadata": {},
   "outputs": [],
   "source": [
    "def Linear_model(x, w, b):\n",
    "    '''\n",
    "    Input:\n",
    "        w : Integar, representing weight 1 * 13\n",
    "        x : NumpyArray, repersenting Size of the house 506 * 13\n",
    "    Output:\n",
    "        y_hat : NumpyArray, prediction of Price, based on y = w * x\n",
    "    '''  \n",
    "    n,m = x.shape\n",
    "    f_wb = np.zeros(n)\n",
    "    for i in range(n):\n",
    "        f_wb_i = np.dot(x[i,:],w) + b \n",
    "        f_wb[i] = f_wb_i\n",
    "\n",
    "    y_hat = f_wb\n",
    "        \n",
    "    return y_hat\n",
    "\n",
    "# Set initial w value\n",
    "w_init = np.zeros(m)\n",
    "b_init = 0\n",
    "y_hat = Linear_model(x_data, w_init,b_init)\n"
   ]
  },
  {
   "cell_type": "code",
   "execution_count": 4,
   "metadata": {},
   "outputs": [
    {
     "data": {
      "text/plain": [
       "13"
      ]
     },
     "execution_count": 4,
     "metadata": {},
     "output_type": "execute_result"
    }
   ],
   "source": [
    "x_data[:,12].shape\n",
    "n,m = x_data.shape\n",
    "m"
   ]
  },
  {
   "cell_type": "code",
   "execution_count": 5,
   "metadata": {},
   "outputs": [
    {
     "data": {
      "text/plain": [
       "296.0734584980237"
      ]
     },
     "execution_count": 5,
     "metadata": {},
     "output_type": "execute_result"
    }
   ],
   "source": [
    "#Cost Function\n",
    "def Cost_function(x, y, w, b):\n",
    "    '''\n",
    "    Input:\n",
    "        w : Int, representing weight\n",
    "        b : Int, Bias\n",
    "        x : NumpyArray, representing Size of the house \n",
    "        y : NumpyArray, representing Price of the house\n",
    "    Output:\n",
    "        Cost : Int\n",
    "    '''  \n",
    "\n",
    "    m = y.shape[0]\n",
    "    cost = 0\n",
    "    f_wb = Linear_model(x, w, b)\n",
    "    \n",
    "    #TODO:\n",
    "    val = (f_wb - y) ** 2\n",
    "    val = np.sum(val)\n",
    "    cost += val\n",
    "\n",
    "    cost /= 2*m\n",
    "\n",
    "    \n",
    "    return cost\n",
    "        \n",
    "cost = Cost_function(x_data, y_data, w_init, b_init)\n",
    "cost "
   ]
  },
  {
   "cell_type": "code",
   "execution_count": 6,
   "metadata": {},
   "outputs": [],
   "source": [
    "#Gradient Descent\n",
    "def gradient_function(x, y, w, b):\n",
    "    '''\n",
    "    Input:\n",
    "        w : Int, representing weight\n",
    "        b : Int, Bias\n",
    "        x : NumpyArray, representing Size of the house \n",
    "        y : NumpyArray, representing Price of the house\n",
    "    Output:\n",
    "        dj_dw : Float\n",
    "        dj_db : Float\n",
    "    '''  \n",
    "    n,m = x.shape\n",
    "    dj_dw = np.zeros(m)\n",
    "    dj_db = 0.0\n",
    "    f_wb = Linear_model(x, w, b)\n",
    "    \n",
    "    #TODO:\n",
    "    val = f_wb - y\n",
    "    for i in range(m):\n",
    "        dj_dw[i] = np.dot(val, x[:,i])\n",
    "    \n",
    "    \n",
    "    dj_db = np.sum(val)\n",
    "    \n",
    "\n",
    "    dj_dw /= m\n",
    "    dj_db /= m\n",
    "    \n",
    "    return dj_dw,dj_db    "
   ]
  },
  {
   "cell_type": "code",
   "execution_count": 7,
   "metadata": {},
   "outputs": [],
   "source": [
    "def Gradient_Descent(x, y , w_init, b_init, lr, iteration):\n",
    "    '''\n",
    "    Input:\n",
    "        w_init : Int, initial weight\n",
    "        b_init : Int, initial bias\n",
    "        x : NumpyArray, representing Size of the house \n",
    "        y : NumpyArray, representing Price of the house\n",
    "\n",
    "    Output:\n",
    "        cost_history: List, recording cost\n",
    "        w_history: List, recording weight\n",
    "        b_history: List, recording bias\n",
    "    '''  \n",
    "    #For drawing figure, do not care\n",
    "    cost_history = []\n",
    "    w_history = []\n",
    "    b_history = []\n",
    "    #Start Here\n",
    "    w = w_init\n",
    "    b = b_init\n",
    "    \n",
    "    for num in range(iteration):\n",
    "\n",
    "        \n",
    "        dj_dw, dj_db = gradient_function(x, y, w, b)\n",
    "        w = w - dj_dw * lr\n",
    "        b = b - dj_db * lr\n",
    "\n",
    "        #For drawing figure, do not care\n",
    "        cost = Cost_function(x,y,w,b)\n",
    "        cost_history.append(cost)\n",
    "        w_history.append(w)\n",
    "        b_history.append(b)\n",
    "        if (num % 10000 == 0):\n",
    "            print(f\"Iter:{num:4}, Cost : {cost:0.4e}\")\n",
    "                  \n",
    "\n",
    "    return w,b,cost,w_history,cost_history,b_history"
   ]
  },
  {
   "cell_type": "code",
   "execution_count": 8,
   "metadata": {},
   "outputs": [
    {
     "name": "stdout",
     "output_type": "stream",
     "text": [
      "Iter:   0, Cost : 7.4846e+01\n",
      "Iter:10000, Cost : 2.5805e+01\n",
      "Iter:20000, Cost : 2.3475e+01\n",
      "Iter:30000, Cost : 2.2388e+01\n",
      "Iter:40000, Cost : 2.1662e+01\n",
      "Iter:50000, Cost : 2.1092e+01\n",
      "Iter:60000, Cost : 2.0604e+01\n",
      "Iter:70000, Cost : 2.0166e+01\n",
      "Iter:80000, Cost : 1.9761e+01\n",
      "Iter:90000, Cost : 1.9383e+01\n"
     ]
    }
   ],
   "source": [
    "#Hyperparametres\n",
    "w_init = np.zeros(m)\n",
    "b_init = 0\n",
    "lr = 1 * 10 ** (-7)\n",
    "iteration  = 100000\n",
    "w_new,b_new,cost_new,w_history,cost_history,b_history = Gradient_Descent(x_data,y_data,w_init,b_init,lr,iteration)"
   ]
  },
  {
   "cell_type": "code",
   "execution_count": 9,
   "metadata": {},
   "outputs": [
    {
     "data": {
      "text/plain": [
       "[<matplotlib.lines.Line2D at 0x278bc8ec790>]"
      ]
     },
     "execution_count": 9,
     "metadata": {},
     "output_type": "execute_result"
    },
    {
     "data": {
      "image/png": "[encoded data removed]",
      "text/plain": [
       "<Figure size 432x288 with 1 Axes>"
      ]
     },
     "metadata": {
      "needs_background": "light"
     },
     "output_type": "display_data"
    }
   ],
   "source": [
    "plt.plot(cost_history)"
   ]
  },
  {
   "cell_type": "code",
   "execution_count": 10,
   "metadata": {},
   "outputs": [
    {
     "name": "stdout",
     "output_type": "stream",
     "text": [
      "[  4.50412828   4.42580526  -5.26288978  -4.17464988  -7.79517104\n",
      "  -0.92841078  -1.3552571   -7.86773409  -6.43889546   0.42825978\n",
      "   3.2019518    3.44909826  -5.57584274   5.32989319   7.8987664\n",
      "   4.99295273   0.66446377   4.89543895  -2.76103148   5.48281903\n",
      "   4.4651367    4.26933689   5.41213114   5.42570214   6.73641007\n",
      "   4.79383706   5.94103196   4.31358978   7.40505438   4.87780925\n",
      "   3.54031863  10.70806803  -4.80881417   6.54732977   2.65098149\n",
      "   5.94421992   2.24858661   1.90323393  -3.81571032   1.57842168\n",
      "  -0.59707153  -3.84019417  -3.91363731  -4.27054298   0.3395892\n",
      "   0.80822453  -2.87119638   1.91282425  -5.26501129  -1.60607052\n",
      "   0.80284085   4.94755453   0.49256236  -1.1207588    6.33561883\n",
      "  -1.03533643   7.15884402   3.95454156   2.88011482   6.31226383\n",
      "   5.53110765   9.70188912   8.33416492   1.45615178  -5.00427921\n",
      "   6.7237222    6.92957488  -0.13473907   1.56056936   1.51842696\n",
      "  -2.8466192   -2.6722097   -0.75153862  -3.15272981  -3.3973612\n",
      "   0.92503427   2.48158875   0.47018493  -0.78995841   0.81399715\n",
      "   0.28367892   6.0890808    1.6031714    3.87006187  -0.70435634\n",
      "   0.05296121  -2.66087399   2.39342158   6.84654104  -0.46621949\n",
      "   2.41681065   4.23186426   4.6321965    1.46219064   6.97914174\n",
      "  -2.96414978   1.57452049  -6.55351836 -15.22024109  -4.83248324\n",
      "  -0.06250995   1.60990089   0.07671717   4.78607079   5.13490332\n",
      "   2.69950588   0.54175065   2.86191886   6.66195144   3.45689818\n",
      "  -0.25467642   2.59798817   1.70940442   1.63918809   6.09153333\n",
      "   0.92448461   1.00822409   5.09853612  -2.50033057   0.28510605\n",
      "  -0.813185     2.22668886  -0.07343335  -2.69374298   2.08469546\n",
      "   1.26484801  -3.30572032   4.71550114   5.80420637   5.55468877\n",
      "   6.76321214   6.27944275   3.63484979   4.18835687   2.29454451\n",
      "   4.16978093   3.52758533   7.2546534    4.83994885   3.09000148\n",
      "   1.87240824  -7.58734624  -2.73406915  -4.70943154  -4.09830005\n",
      "  -8.27262574  -2.16816992  -7.34971691 -10.22939711  -1.88087875\n",
      "  -0.6219434    0.35078377   4.04325597  -3.07957145   1.83653747\n",
      "  -3.69888414  -2.35624127 -11.95714845   2.29265094   3.4697153\n",
      "  -0.33241475 -17.96689899 -16.51695957 -17.16418074  -0.41383919\n",
      "  -4.58611399 -18.52605191  -7.05191504  -2.335406    -0.19812363\n",
      "   0.58702152   2.28934557  -2.08615101   2.67110894   0.87835874\n",
      "  -4.89862733  -1.92260876   2.62142494  -2.32367382  -8.33067089\n",
      "  -9.44595841 -11.67158604  -5.52629578  -1.32584084  -3.86757599\n",
      "  -7.65462745 -19.9723605   -4.35326219  -2.29233302  -5.84640142\n",
      " -10.34339664  -2.68851407  -6.89970163  -3.27416217  -0.63941716\n",
      " -14.96078182  -1.50051765  -3.12188289  -4.53621122  -2.53560292\n",
      "  -0.6416186    4.91136379  -9.78153744 -12.22870731 -12.90016925\n",
      "  -3.48199282  -2.01229476  -4.75288434  -4.88311531  -4.0032048\n",
      "  -1.01146229  -4.97810052  -4.54723588  -6.42944115 -22.23696332\n",
      "  -2.57222036  -3.94107686  -2.66940553  -1.89110749   2.80513402\n",
      "   0.90352429  -4.17020901  -1.27173772  -2.10729888 -12.06876904\n",
      " -16.6184308   -3.64143894  -2.47626976 -20.56796036  -6.48609863\n",
      "  -2.09886006  -1.5618014   -8.11304864 -16.40586874  -3.3191132\n",
      "  -1.66704921   0.82064445  -1.24165822   0.9800543    3.07274238\n",
      "   2.95022431   3.92408303   1.41587199   0.57055857   6.24485895\n",
      "   0.51238934  -0.50166686   6.46810576   0.48218014  -0.93222238\n",
      "   0.73130247   1.21843528  -2.87453325 -13.73646021   7.40702894\n",
      "   4.82075852  -8.15900407 -16.55477487  -5.66923569   0.38680611\n",
      "  -6.5409952  -12.94425482 -16.12093809  -3.6861751   -7.26319489\n",
      "  -0.46000023  -7.77605287 -21.01673889 -13.6423755    2.090889\n",
      "   0.0614366   -0.61075765   3.67444053  -5.16913623  -1.51460515\n",
      "   0.23968772  -2.29739724  -3.26112195  -1.69517844  -8.19669246\n",
      " -13.41747733  -7.81277463 -15.25084595 -14.99511412  -2.54898562\n",
      "   3.9005738    4.4557848    4.19917346   6.21977547  -0.10872485\n",
      "   6.74607382  -1.82425548   5.50829718  -4.4605984   -1.6549611\n",
      "  -5.39733735  -3.22123594  -3.48644977   5.37442321  -0.74988785\n",
      "   6.07701628   2.9724449   -3.25245254  -6.13324103  -6.29440582\n",
      "   0.53610141   0.06260079   3.4176983    7.74375347   4.47115132\n",
      "   0.24316745   3.84231761   5.37929648   5.72134944   3.32119129\n",
      "   6.98750553   0.70778262  -0.52830138   1.03059472   0.06139548\n",
      "   2.25689852   3.32407677   4.42979526   4.78375201   0.72598398\n",
      "  -0.52072801   1.44311069  -1.9328296   -1.39015545  -2.89877872\n",
      "  -0.59505821   2.85096625   3.40716468   3.90222526   4.58506335\n",
      "   2.64674414   3.76019706   5.34342138   3.15024819   4.44024214\n",
      "   6.27808652  -3.58617612   5.88599091   6.79600336  -1.13042115\n",
      "   3.33034778   1.61846372   7.98722115   6.7801205    2.20180337\n",
      "   6.23853146   5.13557691   6.6995197    4.22835581  10.83804319\n",
      "  10.40232179   3.33996275   3.22773552   2.4904079    1.31268269\n",
      "   3.37259245   3.02372264   5.15426777   5.08290683  11.3238383\n",
      "  -3.27342726  -1.5115821   -8.29765903 -19.00884034 -17.05089243\n",
      " -15.53208646 -22.61256639 -23.82061824  -7.57691932 -11.84268606\n",
      "  10.66112942   2.18593999   6.34609367   2.62702367   7.53620152\n",
      "   5.54100185   8.01223396   4.74438226   3.0705143   -4.40246984\n",
      "   2.01882411  -0.68836118  -0.80157151  -1.64819208   6.44798641\n",
      "   6.10729461  -4.39441189   3.468525     9.17920323   8.70261198\n",
      "   9.2243165    8.05943198  10.67109519   3.06095039   1.70158731\n",
      "   7.33847472  12.21695528   7.28704875   8.80337621  -1.05905826\n",
      "   6.66889529   0.69321005  -4.5225711   -5.25983882 -12.16686524\n",
      "  -1.01074685  -6.7544545  -21.36040184  -4.16911138 -13.44207997\n",
      "  -3.77327974  -1.38678826  -5.99556674  -4.28223635  -0.57983975\n",
      "   5.31337874   6.59712561  -1.11328547  -7.05227358  -2.81935138\n",
      "  -2.75471285  -0.53363329  -0.2126643   -1.51074328  -1.15369083\n",
      "  -1.427835    -1.3299757    0.94383833   0.8083628    3.8826294\n",
      "  -3.10952329   2.16252602  -3.8597713   -9.36414494   3.34309507\n",
      "   5.22181778   2.83705743   4.38500588   5.44779009   1.15107513\n",
      "  -3.86486735   4.8583654    9.49425269   7.0075759    5.40844136\n",
      "  -0.85177573   6.18463467   5.26274886   5.83116135  -3.33313681\n",
      "  -1.62056155  -2.59365232  -3.01258952   3.54375722   2.47731063\n",
      "   2.92870825   5.76818686   3.76989144   6.88999123   0.55924412\n",
      "  -2.06133467  -7.4493322   -2.37732548  -2.21140944  -1.31799716\n",
      "   1.58326478   5.25445153  -0.63696077  -5.48802361   4.86028143\n",
      "   0.93413319   4.29261204   0.73448828   5.91415676   2.00693383\n",
      "   0.99779571   4.28356972   4.26153199  -0.44981341  -1.68544802\n",
      "   1.76544709   2.67714401   1.17295558   2.15368726   4.94824404\n",
      "  -1.76711313   4.98455323   0.90844845  -0.94663666  -5.61820016\n",
      "  -9.14494374  -4.78547173   2.5203321    0.44632181   2.49693964\n",
      "   5.0765747    3.84745524   6.2405359    8.25888867   8.95896188\n",
      "  16.10210251]\n"
     ]
    }
   ],
   "source": [
    "y_predict = Linear_model(x_data,w_new,b_new)\n",
    "print(y_predict-y_data)\n"
   ]
  },
  {
   "cell_type": "markdown",
   "metadata": {},
   "source": []
  },
  {
   "attachments": {},
   "cell_type": "markdown",
   "metadata": {},
   "source": [
    "Clearly we can see that the Linear Regression Model, even on the training set, can't expect a very high fitting because of the model himself, we can also change the certain model, for example using polynomial equations."
   ]
  },
  {
   "cell_type": "markdown",
   "metadata": {},
   "source": []
  }
 ],
 "metadata": {
  "kernelspec": {
   "display_name": "Python 3",
   "language": "python",
   "name": "python3"
  },
  "language_info": {
   "codemirror_mode": {
    "name": "ipython",
    "version": 3
   },
   "file_extension": ".py",
   "mimetype": "text/x-python",
   "name": "python",
   "nbconvert_exporter": "python",
   "pygments_lexer": "ipython3",
   "version": "3.9.2"
  },
  "orig_nbformat": 4
 },
 "nbformat": 4,
 "nbformat_minor": 2
}
