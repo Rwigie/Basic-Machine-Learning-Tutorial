{
 "cells": [
  {
   "attachments": {},
   "cell_type": "markdown",
   "metadata": {},
   "source": [
    "# Additional Part\n",
    "using Numpy and vertor"
   ]
  },
  {
   "attachments": {},
   "cell_type": "markdown",
   "metadata": {},
   "source": [
    "<a name=\"toc_40291_2\"></a>\n",
    "# Problem Statement\n",
    "\n",
    "Let's use the same two data points as before - a house with 1000 square feet sold for \\\\$300,000 and a house with 2000 square feet sold for \\\\$500,000.\n",
    "\n",
    "| Size (1000 sqft)     | Price (1000s of dollars) |\n",
    "| ----------------| ------------------------ |\n",
    "| 1               | 300                      |\n",
    "| 2               | 500                      |"
   ]
  },
  {
   "attachments": {},
   "cell_type": "markdown",
   "metadata": {},
   "source": [
    "1. Activation Fucntion \n",
    "\n",
    "So far in this course, you have developed a linear model that predicts $f_{w,b}(x^{(i)})$:\n",
    "$$f_{w,b}(x^{(i)}) = wx^{(i)} + b \\tag{1}$$"
   ]
  },
  {
   "cell_type": "code",
   "execution_count": null,
   "metadata": {},
   "outputs": [],
   "source": [
    "import numpy as np\n",
    "import matplotlib.pyplot as plt\n",
    "x_data = np.array([1, 2])     # Size\n",
    "y_data = np.array([300, 500]) # Price"
   ]
  },
  {
   "cell_type": "code",
   "execution_count": null,
   "metadata": {},
   "outputs": [],
   "source": [
    "print(f\"x_data: {x_data}\")\n",
    "print(f\"x_data.shape : {x_data.shape}\")\n"
   ]
  },
  {
   "cell_type": "code",
   "execution_count": null,
   "metadata": {},
   "outputs": [],
   "source": [
    "def Linear_model(x, w, b):\n",
    "    '''\n",
    "    Input:\n",
    "        w : Int, representing weight\n",
    "        b : Int, Bias\n",
    "        x : NumpyArray, repersenting Size of the house \n",
    "    Output:\n",
    "        y_hat : NumpyArray, prediction of Price, based on y = w * x\n",
    "    '''  \n",
    "    f_wb = w * x + b\n",
    "\n",
    "\n",
    "    y_hat = f_wb\n",
    "        \n",
    "    return y_hat\n",
    "\n",
    "# Set initial w value\n",
    "w_init = 250\n",
    "b_init = 25\n",
    "y_hat = Linear_model(x_data, w_init, b_init)\n",
    "print(f\"The result of prediction of y: {y_hat}\")\n"
   ]
  },
  {
   "attachments": {},
   "cell_type": "markdown",
   "metadata": {},
   "source": [
    "# 2.Cost Function\n",
    "In linear regression, you utilize input training data to fit the parameters $w$,$b$ by minimizing a measure of the error between our predictions $f_{w,b}(x^{(i)})$ and the actual data $y^{(i)}$. The measure is called the $cost$, $J(w,b)$. In training you measure the cost over all of our training samples $x^{(i)},y^{(i)}$\n",
    "$$J(w,b) = \\frac{1}{2m} \\sum\\limits_{i = 0}^{m-1} (f_{w,b}(x^{(i)}) - y^{(i)})^2\\tag{2}$$ "
   ]
  },
  {
   "cell_type": "code",
   "execution_count": null,
   "metadata": {},
   "outputs": [],
   "source": [
    "#Cost Function\n",
    "def Cost_function(x, y, w, b):\n",
    "    '''\n",
    "    Input:\n",
    "        w : Int, representing weight\n",
    "        b : Int, Bias\n",
    "        x : NumpyArray, representing Size of the house \n",
    "        y : NumpyArray, representing Price of the house\n",
    "    Output:\n",
    "        Cost : Int\n",
    "    '''  \n",
    "\n",
    "    m = len(y)\n",
    "    cost = 0\n",
    "    f_wb = Linear_model(x, w, b)\n",
    "    \n",
    "    #TODO:\n",
    "    val = np.sum((f_wb - y) ** 2)\n",
    "    cost += val\n",
    "\n",
    "    cost /= 2*m\n",
    "\n",
    "    \n",
    "    return cost\n",
    "        \n",
    "cost = Cost_function(x_data, y_data, w_init, b_init)\n",
    "\n",
    "\n",
    "\n"
   ]
  },
  {
   "cell_type": "code",
   "execution_count": null,
   "metadata": {},
   "outputs": [],
   "source": [
    "# Plot, do not care\n",
    "from mpl_toolkits.mplot3d import Axes3D\n",
    "from matplotlib import cm\n",
    "def plot_wb(x, y):\n",
    "    c = 300\n",
    "    d = 200\n",
    "    len = (c-1) * (d-1)\n",
    "    w = np.zeros(len)\n",
    "    b = np.zeros(len)\n",
    "    cost = np.zeros(len)\n",
    "    for i in range(0,c-1):\n",
    "        for j in range(0,d-1):\n",
    "            w[i * j] = i\n",
    "            b[i * j] = j\n",
    "            z = Cost_function(x, y, i, j)\n",
    "            cost[i * j] = z\n",
    "    fig = plt.figure(figsize = (10, 10))\n",
    "    ax = fig.gca(projection = '3d')\n",
    "    surf = ax.plot_trisurf(w,b,cost,cmap = cm.coolwarm)\n",
    "    fig.colorbar(surf)\n",
    "    plt.show()\n",
    "\n",
    "plot_wb(x_data,y_data)"
   ]
  },
  {
   "attachments": {},
   "cell_type": "markdown",
   "metadata": {},
   "source": [
    "# 3. Gradient descent\n",
    "The gradient is defined as:\n",
    "$$\n",
    "\\begin{align}\n",
    "\\frac{\\partial J(w,b)}{\\partial w}  &= \\frac{1}{m} \\sum\\limits_{i = 0}^{m-1} (f_{w,b}(x^{(i)}) - y^{(i)})x^{(i)} \\tag{4}\\\\\n",
    "  \\frac{\\partial J(w,b)}{\\partial b}  &= \\frac{1}{m} \\sum\\limits_{i = 0}^{m-1} (f_{w,b}(x^{(i)}) - y^{(i)}) \\tag{5}\\\\\n",
    "\\end{align}\n",
    "$$"
   ]
  },
  {
   "cell_type": "code",
   "execution_count": null,
   "metadata": {},
   "outputs": [],
   "source": [
    "#Gradient Descent\n",
    "def gradient_function(x, y, w, b):\n",
    "    '''\n",
    "    Input:\n",
    "        w : Int, representing weight\n",
    "        b : Int, Bias\n",
    "        x : NumpyArray, representing Size of the house \n",
    "        y : NumpyArray, representing Price of the house\n",
    "    Output:\n",
    "        dj_dw : Float\n",
    "        dj_db : Float\n",
    "    '''  \n",
    "    dj_dw = 0.0\n",
    "    dj_db = 0.0\n",
    "    f_wb = Linear_model(x, w, b)\n",
    "    m = len(x)\n",
    "    #TODO:\n",
    "    val = f_wb - y\n",
    "    dj_dw = np.dot(val,x)\n",
    "    dj_db = np.sum(val)\n",
    "    \n",
    "\n",
    "    dj_dw /= m\n",
    "    dj_db /= m\n",
    "    \n",
    "    return dj_dw,dj_db    "
   ]
  },
  {
   "attachments": {},
   "cell_type": "markdown",
   "metadata": {},
   "source": [
    "In lecture, *gradient descent* was described as:\n",
    "\n",
    "$$\\begin{align*} \\text{repeat}&\\text{ until convergence:} \\; \\lbrace \\newline\n",
    "\\;  w &= w -  \\alpha \\frac{\\partial J(w,b)}{\\partial w} \\tag{3}  \\; \\newline \n",
    " b &= b -  \\alpha \\frac{\\partial J(w,b)}{\\partial b}  \\newline \\rbrace\n",
    "\\end{align*}$$\n",
    "where, parameters $w$, $b$ are updated simultaneously.  \n",
    "\n",
    "\n",
    "Here *simultaniously* means that you calculate the partial derivatives for all the parameters before updating any of the parameters."
   ]
  },
  {
   "cell_type": "code",
   "execution_count": null,
   "metadata": {},
   "outputs": [],
   "source": [
    "def Gradient_Descent(x, y , w_init, b_init, lr, iteration):\n",
    "    '''\n",
    "    Input:\n",
    "        w_init : Int, initial weight\n",
    "\n",
    "        b_init : Int, initial bias\n",
    "\n",
    "        x : NumpyArray, representing Size of the house \n",
    "\n",
    "        y : NumpyArray, representing Price of the house\n",
    "\n",
    "    Output:\n",
    "        cost_history: List, recording cost\n",
    "\n",
    "        w_history: List, recording weight\n",
    "\n",
    "        b_history: List, recording bias\n",
    "    '''  \n",
    "    #For drawing figure, do not care\n",
    "    cost_history = []\n",
    "    w_history = []\n",
    "    b_history = []\n",
    "    #Start Here\n",
    "    w = w_init\n",
    "    b = b_init\n",
    "    \n",
    "    for num in range(iteration):\n",
    "\n",
    "        \n",
    "        dj_dw, dj_db = gradient_function(x, y, w, b)\n",
    "        w = w - dj_dw * lr\n",
    "        b = b - dj_db * lr\n",
    "\n",
    "        #For drawing figure, do not care\n",
    "        cost = Cost_function(x,y,w,b)\n",
    "        cost_history.append(cost)\n",
    "        w_history.append(w)\n",
    "        b_history.append(b)\n",
    "        if (num % 100 == 0):\n",
    "            print(f\"Iter:{num:4}, Cost : {cost:0.4e}\")\n",
    "                  \n",
    "\n",
    "    return w,cost,w_history,cost_history,b_history"
   ]
  },
  {
   "attachments": {},
   "cell_type": "markdown",
   "metadata": {},
   "source": [
    "# 4. Modulation Part\n",
    "lr : learning rate \\\n",
    "iteration : the total amount of trainig \\\n",
    "You can justify lr and iteration to see the ultimate effect"
   ]
  },
  {
   "cell_type": "code",
   "execution_count": null,
   "metadata": {},
   "outputs": [],
   "source": [
    "#Hyperparametres\n",
    "w_init = 0\n",
    "b_init = 0\n",
    "lr = 0.01\n",
    "iteration  = 10000\n",
    "w_new,cost_new,w_history,cost_history,b_history = Gradient_Descent(x_data,y_data,w_init,b_init,lr,iteration)\n"
   ]
  },
  {
   "cell_type": "code",
   "execution_count": null,
   "metadata": {},
   "outputs": [],
   "source": [
    "plt.plot(cost_history)\n",
    "w_history[-1]"
   ]
  }
 ],
 "metadata": {
  "kernelspec": {
   "display_name": "Python 3",
   "language": "python",
   "name": "python3"
  },
  "language_info": {
   "codemirror_mode": {
    "name": "ipython",
    "version": 3
   },
   "file_extension": ".py",
   "mimetype": "text/x-python",
   "name": "python",
   "nbconvert_exporter": "python",
   "pygments_lexer": "ipython3",
   "version": "3.9.2"
  },
  "orig_nbformat": 4
 },
 "nbformat": 4,
 "nbformat_minor": 2
}
